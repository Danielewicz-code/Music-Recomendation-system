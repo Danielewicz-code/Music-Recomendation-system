{
 "cells": [
  {
   "cell_type": "code",
   "execution_count": 2,
   "id": "97d9bc41",
   "metadata": {},
   "outputs": [],
   "source": [
    "import pandas as pd"
   ]
  },
  {
   "cell_type": "code",
   "execution_count": 3,
   "id": "84e95700",
   "metadata": {},
   "outputs": [],
   "source": [
    "music_data = pd.read_csv('Programas/Music_R_S/Music Data/tracks_features.csv')\n"
   ]
  },
  {
   "cell_type": "code",
   "execution_count": 4,
   "id": "e51705b7",
   "metadata": {},
   "outputs": [
    {
     "name": "stdout",
     "output_type": "stream",
     "text": [
      "(1204025, 24)\n",
      "28896600\n"
     ]
    }
   ],
   "source": [
    "print(music_data.shape)\n",
    "print(music_data.size)"
   ]
  },
  {
   "cell_type": "markdown",
   "id": "41b838f4",
   "metadata": {},
   "source": [
    "Redimentionate the dataset"
   ]
  },
  {
   "cell_type": "code",
   "execution_count": 5,
   "id": "cf8c2ff7",
   "metadata": {},
   "outputs": [],
   "source": [
    "#here i reduce the dimentionality to 15,000 because my laptop is shit\n",
    "data = music_data.sample(n=1000, random_state=0)\n",
    "#here i just fix the indexes so they are from 1 - 15,000\n",
    "data = data.reset_index(drop= True)\n",
    "data.index = data.index + 1"
   ]
  },
  {
   "cell_type": "code",
   "execution_count": 6,
   "id": "86abaaa9",
   "metadata": {},
   "outputs": [
    {
     "name": "stdout",
     "output_type": "stream",
     "text": [
      "<class 'pandas.core.frame.DataFrame'>\n",
      "RangeIndex: 1000 entries, 1 to 1000\n",
      "Data columns (total 24 columns):\n",
      " #   Column            Non-Null Count  Dtype  \n",
      "---  ------            --------------  -----  \n",
      " 0   id                1000 non-null   object \n",
      " 1   name              1000 non-null   object \n",
      " 2   album             1000 non-null   object \n",
      " 3   album_id          1000 non-null   object \n",
      " 4   artists           1000 non-null   object \n",
      " 5   artist_ids        1000 non-null   object \n",
      " 6   track_number      1000 non-null   int64  \n",
      " 7   disc_number       1000 non-null   int64  \n",
      " 8   explicit          1000 non-null   bool   \n",
      " 9   danceability      1000 non-null   float64\n",
      " 10  energy            1000 non-null   float64\n",
      " 11  key               1000 non-null   int64  \n",
      " 12  loudness          1000 non-null   float64\n",
      " 13  mode              1000 non-null   int64  \n",
      " 14  speechiness       1000 non-null   float64\n",
      " 15  acousticness      1000 non-null   float64\n",
      " 16  instrumentalness  1000 non-null   float64\n",
      " 17  liveness          1000 non-null   float64\n",
      " 18  valence           1000 non-null   float64\n",
      " 19  tempo             1000 non-null   float64\n",
      " 20  duration_ms       1000 non-null   int64  \n",
      " 21  time_signature    1000 non-null   float64\n",
      " 22  year              1000 non-null   int64  \n",
      " 23  release_date      1000 non-null   object \n",
      "dtypes: bool(1), float64(10), int64(6), object(7)\n",
      "memory usage: 180.8+ KB\n"
     ]
    }
   ],
   "source": [
    "data.info()"
   ]
  },
  {
   "cell_type": "markdown",
   "id": "f734e971",
   "metadata": {},
   "source": [
    "Data cleaning"
   ]
  },
  {
   "cell_type": "code",
   "execution_count": 7,
   "id": "fdb9b614",
   "metadata": {},
   "outputs": [],
   "source": [
    "#drop useless data\n",
    "data.drop(['album_id', 'artist_ids', 'track_number', 'disc_number', 'time_signature', 'release_date'],axis= 1,  inplace= True)"
   ]
  },
  {
   "cell_type": "code",
   "execution_count": 8,
   "id": "d14e275b",
   "metadata": {},
   "outputs": [],
   "source": [
    "#unite all \"musical\" features in one\n",
    "data['song_features'] = data.apply(lambda row: ', '.join([str(row[col]) for col in data.columns [2:]]), axis= 1)"
   ]
  },
  {
   "cell_type": "code",
   "execution_count": 9,
   "id": "2b900906",
   "metadata": {},
   "outputs": [
    {
     "data": {
      "text/plain": [
       "Index(['id', 'name', 'album', 'artists', 'explicit', 'danceability', 'energy',\n",
       "       'key', 'loudness', 'mode', 'speechiness', 'acousticness',\n",
       "       'instrumentalness', 'liveness', 'valence', 'tempo', 'duration_ms',\n",
       "       'year', 'song_features'],\n",
       "      dtype='object')"
      ]
     },
     "execution_count": 9,
     "metadata": {},
     "output_type": "execute_result"
    }
   ],
   "source": [
    "data.columns"
   ]
  },
  {
   "cell_type": "code",
   "execution_count": 10,
   "id": "7f0fe796",
   "metadata": {},
   "outputs": [],
   "source": [
    "#drop more data\n",
    "data.drop(['album', 'artists', 'explicit', 'danceability', 'energy',\n",
    "       'key', 'loudness', 'mode', 'speechiness', 'acousticness',\n",
    "       'instrumentalness', 'liveness', 'valence', 'tempo', 'duration_ms',\n",
    "       'year'], axis= 1, inplace= True)"
   ]
  },
  {
   "cell_type": "code",
   "execution_count": 11,
   "id": "a5e923aa",
   "metadata": {},
   "outputs": [
    {
     "data": {
      "text/html": [
       "<div>\n",
       "<style scoped>\n",
       "    .dataframe tbody tr th:only-of-type {\n",
       "        vertical-align: middle;\n",
       "    }\n",
       "\n",
       "    .dataframe tbody tr th {\n",
       "        vertical-align: top;\n",
       "    }\n",
       "\n",
       "    .dataframe thead th {\n",
       "        text-align: right;\n",
       "    }\n",
       "</style>\n",
       "<table border=\"1\" class=\"dataframe\">\n",
       "  <thead>\n",
       "    <tr style=\"text-align: right;\">\n",
       "      <th></th>\n",
       "      <th>id</th>\n",
       "      <th>name</th>\n",
       "      <th>song_features</th>\n",
       "    </tr>\n",
       "  </thead>\n",
       "  <tbody>\n",
       "    <tr>\n",
       "      <th>1</th>\n",
       "      <td>1T1RyfNzTKWaLQuLiwWdjH</td>\n",
       "      <td>Sunday School</td>\n",
       "      <td>Redemption, ['The Loyalists'], False, 0.532, 0...</td>\n",
       "    </tr>\n",
       "    <tr>\n",
       "      <th>2</th>\n",
       "      <td>3cpJbarmU5e9jL02XsOkkv</td>\n",
       "      <td>Moments Before Dawn</td>\n",
       "      <td>Azure Pieces of Life, ['Kat Epple', 'Chuck Gri...</td>\n",
       "    </tr>\n",
       "    <tr>\n",
       "      <th>3</th>\n",
       "      <td>1l9YCCXXfVxy0aBXFcjTj5</td>\n",
       "      <td>Things Ain't What They Used To Be</td>\n",
       "      <td>Lush Life - A Musical Journey, ['Joe Castro'],...</td>\n",
       "    </tr>\n",
       "    <tr>\n",
       "      <th>4</th>\n",
       "      <td>0RjEvsCxOxoC5tcIdOdpV6</td>\n",
       "      <td>F**kin' Perfect</td>\n",
       "      <td>Piano Tribute to P!nk, ['Piano Tribute Players...</td>\n",
       "    </tr>\n",
       "    <tr>\n",
       "      <th>5</th>\n",
       "      <td>3K0r4oPoNucAvwJIfFVYvg</td>\n",
       "      <td>Here For You</td>\n",
       "      <td>Release Some Tension, ['SWV'], False, 0.6, 0.5...</td>\n",
       "    </tr>\n",
       "  </tbody>\n",
       "</table>\n",
       "</div>"
      ],
      "text/plain": [
       "                       id                               name  \\\n",
       "1  1T1RyfNzTKWaLQuLiwWdjH                      Sunday School   \n",
       "2  3cpJbarmU5e9jL02XsOkkv                Moments Before Dawn   \n",
       "3  1l9YCCXXfVxy0aBXFcjTj5  Things Ain't What They Used To Be   \n",
       "4  0RjEvsCxOxoC5tcIdOdpV6                    F**kin' Perfect   \n",
       "5  3K0r4oPoNucAvwJIfFVYvg                       Here For You   \n",
       "\n",
       "                                       song_features  \n",
       "1  Redemption, ['The Loyalists'], False, 0.532, 0...  \n",
       "2  Azure Pieces of Life, ['Kat Epple', 'Chuck Gri...  \n",
       "3  Lush Life - A Musical Journey, ['Joe Castro'],...  \n",
       "4  Piano Tribute to P!nk, ['Piano Tribute Players...  \n",
       "5  Release Some Tension, ['SWV'], False, 0.6, 0.5...  "
      ]
     },
     "execution_count": 11,
     "metadata": {},
     "output_type": "execute_result"
    }
   ],
   "source": [
    "data.head()"
   ]
  },
  {
   "cell_type": "code",
   "execution_count": 12,
   "id": "8e697553",
   "metadata": {},
   "outputs": [
    {
     "name": "stdout",
     "output_type": "stream",
     "text": [
      "<class 'pandas.core.frame.DataFrame'>\n",
      "RangeIndex: 1000 entries, 1 to 1000\n",
      "Data columns (total 3 columns):\n",
      " #   Column         Non-Null Count  Dtype \n",
      "---  ------         --------------  ----- \n",
      " 0   id             1000 non-null   object\n",
      " 1   name           1000 non-null   object\n",
      " 2   song_features  1000 non-null   object\n",
      "dtypes: object(3)\n",
      "memory usage: 23.6+ KB\n"
     ]
    }
   ],
   "source": [
    "data.info()"
   ]
  },
  {
   "cell_type": "code",
   "execution_count": 13,
   "id": "065675c2",
   "metadata": {},
   "outputs": [],
   "source": [
    "#new dataset\n",
    "music = data[['id', 'name', 'song_features']]"
   ]
  },
  {
   "cell_type": "code",
   "execution_count": 14,
   "id": "b7cf3803",
   "metadata": {},
   "outputs": [
    {
     "name": "stdout",
     "output_type": "stream",
     "text": [
      "<class 'pandas.core.frame.DataFrame'>\n",
      "RangeIndex: 1000 entries, 1 to 1000\n",
      "Data columns (total 3 columns):\n",
      " #   Column         Non-Null Count  Dtype \n",
      "---  ------         --------------  ----- \n",
      " 0   id             1000 non-null   object\n",
      " 1   name           1000 non-null   object\n",
      " 2   song_features  1000 non-null   object\n",
      "dtypes: object(3)\n",
      "memory usage: 23.6+ KB\n"
     ]
    }
   ],
   "source": [
    "music.info()"
   ]
  },
  {
   "cell_type": "markdown",
   "id": "a9ad0578",
   "metadata": {},
   "source": [
    "Vectorization"
   ]
  },
  {
   "cell_type": "code",
   "execution_count": 15,
   "id": "97e66d72",
   "metadata": {},
   "outputs": [],
   "source": [
    "from sklearn.feature_extraction.text import CountVectorizer"
   ]
  },
  {
   "cell_type": "code",
   "execution_count": 16,
   "id": "5e7a307e",
   "metadata": {},
   "outputs": [],
   "source": [
    "#put the CV in a variable and fix the max features to the data level and erease the stop words\n",
    "cv = CountVectorizer(max_features= 15000, stop_words= 'english')"
   ]
  },
  {
   "cell_type": "code",
   "execution_count": 17,
   "id": "89bfbe2b",
   "metadata": {},
   "outputs": [
    {
     "data": {
      "text/html": [
       "<style>#sk-container-id-1 {color: black;background-color: white;}#sk-container-id-1 pre{padding: 0;}#sk-container-id-1 div.sk-toggleable {background-color: white;}#sk-container-id-1 label.sk-toggleable__label {cursor: pointer;display: block;width: 100%;margin-bottom: 0;padding: 0.3em;box-sizing: border-box;text-align: center;}#sk-container-id-1 label.sk-toggleable__label-arrow:before {content: \"▸\";float: left;margin-right: 0.25em;color: #696969;}#sk-container-id-1 label.sk-toggleable__label-arrow:hover:before {color: black;}#sk-container-id-1 div.sk-estimator:hover label.sk-toggleable__label-arrow:before {color: black;}#sk-container-id-1 div.sk-toggleable__content {max-height: 0;max-width: 0;overflow: hidden;text-align: left;background-color: #f0f8ff;}#sk-container-id-1 div.sk-toggleable__content pre {margin: 0.2em;color: black;border-radius: 0.25em;background-color: #f0f8ff;}#sk-container-id-1 input.sk-toggleable__control:checked~div.sk-toggleable__content {max-height: 200px;max-width: 100%;overflow: auto;}#sk-container-id-1 input.sk-toggleable__control:checked~label.sk-toggleable__label-arrow:before {content: \"▾\";}#sk-container-id-1 div.sk-estimator input.sk-toggleable__control:checked~label.sk-toggleable__label {background-color: #d4ebff;}#sk-container-id-1 div.sk-label input.sk-toggleable__control:checked~label.sk-toggleable__label {background-color: #d4ebff;}#sk-container-id-1 input.sk-hidden--visually {border: 0;clip: rect(1px 1px 1px 1px);clip: rect(1px, 1px, 1px, 1px);height: 1px;margin: -1px;overflow: hidden;padding: 0;position: absolute;width: 1px;}#sk-container-id-1 div.sk-estimator {font-family: monospace;background-color: #f0f8ff;border: 1px dotted black;border-radius: 0.25em;box-sizing: border-box;margin-bottom: 0.5em;}#sk-container-id-1 div.sk-estimator:hover {background-color: #d4ebff;}#sk-container-id-1 div.sk-parallel-item::after {content: \"\";width: 100%;border-bottom: 1px solid gray;flex-grow: 1;}#sk-container-id-1 div.sk-label:hover label.sk-toggleable__label {background-color: #d4ebff;}#sk-container-id-1 div.sk-serial::before {content: \"\";position: absolute;border-left: 1px solid gray;box-sizing: border-box;top: 0;bottom: 0;left: 50%;z-index: 0;}#sk-container-id-1 div.sk-serial {display: flex;flex-direction: column;align-items: center;background-color: white;padding-right: 0.2em;padding-left: 0.2em;position: relative;}#sk-container-id-1 div.sk-item {position: relative;z-index: 1;}#sk-container-id-1 div.sk-parallel {display: flex;align-items: stretch;justify-content: center;background-color: white;position: relative;}#sk-container-id-1 div.sk-item::before, #sk-container-id-1 div.sk-parallel-item::before {content: \"\";position: absolute;border-left: 1px solid gray;box-sizing: border-box;top: 0;bottom: 0;left: 50%;z-index: -1;}#sk-container-id-1 div.sk-parallel-item {display: flex;flex-direction: column;z-index: 1;position: relative;background-color: white;}#sk-container-id-1 div.sk-parallel-item:first-child::after {align-self: flex-end;width: 50%;}#sk-container-id-1 div.sk-parallel-item:last-child::after {align-self: flex-start;width: 50%;}#sk-container-id-1 div.sk-parallel-item:only-child::after {width: 0;}#sk-container-id-1 div.sk-dashed-wrapped {border: 1px dashed gray;margin: 0 0.4em 0.5em 0.4em;box-sizing: border-box;padding-bottom: 0.4em;background-color: white;}#sk-container-id-1 div.sk-label label {font-family: monospace;font-weight: bold;display: inline-block;line-height: 1.2em;}#sk-container-id-1 div.sk-label-container {text-align: center;}#sk-container-id-1 div.sk-container {/* jupyter's `normalize.less` sets `[hidden] { display: none; }` but bootstrap.min.css set `[hidden] { display: none !important; }` so we also need the `!important` here to be able to override the default hidden behavior on the sphinx rendered scikit-learn.org. See: https://github.com/scikit-learn/scikit-learn/issues/21755 */display: inline-block !important;position: relative;}#sk-container-id-1 div.sk-text-repr-fallback {display: none;}</style><div id=\"sk-container-id-1\" class=\"sk-top-container\"><div class=\"sk-text-repr-fallback\"><pre>CountVectorizer(max_features=15000, stop_words=&#x27;english&#x27;)</pre><b>In a Jupyter environment, please rerun this cell to show the HTML representation or trust the notebook. <br />On GitHub, the HTML representation is unable to render, please try loading this page with nbviewer.org.</b></div><div class=\"sk-container\" hidden><div class=\"sk-item\"><div class=\"sk-estimator sk-toggleable\"><input class=\"sk-toggleable__control sk-hidden--visually\" id=\"sk-estimator-id-1\" type=\"checkbox\" checked><label for=\"sk-estimator-id-1\" class=\"sk-toggleable__label sk-toggleable__label-arrow\">CountVectorizer</label><div class=\"sk-toggleable__content\"><pre>CountVectorizer(max_features=15000, stop_words=&#x27;english&#x27;)</pre></div></div></div></div></div>"
      ],
      "text/plain": [
       "CountVectorizer(max_features=15000, stop_words='english')"
      ]
     },
     "execution_count": 17,
     "metadata": {},
     "output_type": "execute_result"
    }
   ],
   "source": [
    "cv"
   ]
  },
  {
   "cell_type": "code",
   "execution_count": 18,
   "id": "3e7fa82f",
   "metadata": {},
   "outputs": [],
   "source": [
    "#here we vectorize all the song features in an unicode\n",
    "vectors = cv.fit_transform(music['song_features'].values.astype('U')).toarray()"
   ]
  },
  {
   "cell_type": "code",
   "execution_count": 19,
   "id": "14c3c4da",
   "metadata": {},
   "outputs": [
    {
     "data": {
      "text/plain": [
       "(1000, 7014)"
      ]
     },
     "execution_count": 19,
     "metadata": {},
     "output_type": "execute_result"
    }
   ],
   "source": [
    "vectors.shape"
   ]
  },
  {
   "cell_type": "markdown",
   "id": "0d3feb6c",
   "metadata": {},
   "source": [
    "Cosine similarity"
   ]
  },
  {
   "cell_type": "code",
   "execution_count": 20,
   "id": "1292260c",
   "metadata": {},
   "outputs": [],
   "source": [
    "from sklearn.metrics.pairwise import cosine_similarity"
   ]
  },
  {
   "cell_type": "code",
   "execution_count": 21,
   "id": "9575f651",
   "metadata": {},
   "outputs": [],
   "source": [
    "#use the cosine similarity and use it with the vectors\n",
    "similarity = cosine_similarity(vectors)"
   ]
  },
  {
   "cell_type": "code",
   "execution_count": 22,
   "id": "d4908990",
   "metadata": {},
   "outputs": [
    {
     "data": {
      "text/plain": [
       "array([[1.        , 0.05455447, 0.0559017 , ..., 0.04166667, 0.05892557,\n",
       "        0.        ],\n",
       "       [0.05455447, 1.        , 0.09759001, ..., 0.03636965, 0.05143445,\n",
       "        0.05455447],\n",
       "       [0.0559017 , 0.09759001, 1.        , ..., 0.0372678 , 0.10540926,\n",
       "        0.0559017 ],\n",
       "       ...,\n",
       "       [0.04166667, 0.03636965, 0.0372678 , ..., 1.        , 0.03928371,\n",
       "        0.        ],\n",
       "       [0.05892557, 0.05143445, 0.10540926, ..., 0.03928371, 1.        ,\n",
       "        0.        ],\n",
       "       [0.        , 0.05455447, 0.0559017 , ..., 0.        , 0.        ,\n",
       "        1.        ]])"
      ]
     },
     "execution_count": 22,
     "metadata": {},
     "output_type": "execute_result"
    }
   ],
   "source": [
    "similarity"
   ]
  },
  {
   "cell_type": "code",
   "execution_count": 23,
   "id": "4421a6f0",
   "metadata": {},
   "outputs": [
    {
     "data": {
      "text/html": [
       "<div>\n",
       "<style scoped>\n",
       "    .dataframe tbody tr th:only-of-type {\n",
       "        vertical-align: middle;\n",
       "    }\n",
       "\n",
       "    .dataframe tbody tr th {\n",
       "        vertical-align: top;\n",
       "    }\n",
       "\n",
       "    .dataframe thead th {\n",
       "        text-align: right;\n",
       "    }\n",
       "</style>\n",
       "<table border=\"1\" class=\"dataframe\">\n",
       "  <thead>\n",
       "    <tr style=\"text-align: right;\">\n",
       "      <th></th>\n",
       "      <th>id</th>\n",
       "      <th>name</th>\n",
       "      <th>song_features</th>\n",
       "    </tr>\n",
       "  </thead>\n",
       "  <tbody>\n",
       "    <tr>\n",
       "      <th>1</th>\n",
       "      <td>1T1RyfNzTKWaLQuLiwWdjH</td>\n",
       "      <td>Sunday School</td>\n",
       "      <td>Redemption, ['The Loyalists'], False, 0.532, 0...</td>\n",
       "    </tr>\n",
       "    <tr>\n",
       "      <th>2</th>\n",
       "      <td>3cpJbarmU5e9jL02XsOkkv</td>\n",
       "      <td>Moments Before Dawn</td>\n",
       "      <td>Azure Pieces of Life, ['Kat Epple', 'Chuck Gri...</td>\n",
       "    </tr>\n",
       "    <tr>\n",
       "      <th>3</th>\n",
       "      <td>1l9YCCXXfVxy0aBXFcjTj5</td>\n",
       "      <td>Things Ain't What They Used To Be</td>\n",
       "      <td>Lush Life - A Musical Journey, ['Joe Castro'],...</td>\n",
       "    </tr>\n",
       "  </tbody>\n",
       "</table>\n",
       "</div>"
      ],
      "text/plain": [
       "                       id                               name  \\\n",
       "1  1T1RyfNzTKWaLQuLiwWdjH                      Sunday School   \n",
       "2  3cpJbarmU5e9jL02XsOkkv                Moments Before Dawn   \n",
       "3  1l9YCCXXfVxy0aBXFcjTj5  Things Ain't What They Used To Be   \n",
       "\n",
       "                                       song_features  \n",
       "1  Redemption, ['The Loyalists'], False, 0.532, 0...  \n",
       "2  Azure Pieces of Life, ['Kat Epple', 'Chuck Gri...  \n",
       "3  Lush Life - A Musical Journey, ['Joe Castro'],...  "
      ]
     },
     "execution_count": 23,
     "metadata": {},
     "output_type": "execute_result"
    }
   ],
   "source": [
    "music.head(3)"
   ]
  },
  {
   "cell_type": "code",
   "execution_count": 24,
   "id": "64139820",
   "metadata": {},
   "outputs": [
    {
     "name": "stdout",
     "output_type": "stream",
     "text": [
      "Sunday School\n",
      "Downtown Mayors Goodnight, Alley Kids Rule! [S-2 Beatdown Mayors Mix]\n",
      "Meridian Leeward\n",
      "Get Free\n",
      "Go to Sleep\n"
     ]
    }
   ],
   "source": [
    "#first taste of the program working\n",
    "distance = sorted(enumerate(similarity[0]), reverse=True, key=lambda x: x[1])\n",
    "for i in distance[:5]:\n",
    "  print(music.iloc[i[0]]['name'])"
   ]
  },
  {
   "cell_type": "code",
   "execution_count": 33,
   "id": "7d0ab6bb",
   "metadata": {},
   "outputs": [
    {
     "data": {
      "text/html": [
       "<div>\n",
       "<style scoped>\n",
       "    .dataframe tbody tr th:only-of-type {\n",
       "        vertical-align: middle;\n",
       "    }\n",
       "\n",
       "    .dataframe tbody tr th {\n",
       "        vertical-align: top;\n",
       "    }\n",
       "\n",
       "    .dataframe thead th {\n",
       "        text-align: right;\n",
       "    }\n",
       "</style>\n",
       "<table border=\"1\" class=\"dataframe\">\n",
       "  <thead>\n",
       "    <tr style=\"text-align: right;\">\n",
       "      <th></th>\n",
       "      <th>id</th>\n",
       "      <th>name</th>\n",
       "      <th>song_features</th>\n",
       "    </tr>\n",
       "  </thead>\n",
       "  <tbody>\n",
       "    <tr>\n",
       "      <th>155</th>\n",
       "      <td>4M8pelLdIxhQvlMTjiseig</td>\n",
       "      <td>Girl On the Moon</td>\n",
       "      <td>Sad Rock Songs, ['Foreigner'], False, 0.597, 0...</td>\n",
       "    </tr>\n",
       "  </tbody>\n",
       "</table>\n",
       "</div>"
      ],
      "text/plain": [
       "                         id              name  \\\n",
       "155  4M8pelLdIxhQvlMTjiseig  Girl On the Moon   \n",
       "\n",
       "                                         song_features  \n",
       "155  Sad Rock Songs, ['Foreigner'], False, 0.597, 0...  "
      ]
     },
     "execution_count": 33,
     "metadata": {},
     "output_type": "execute_result"
    }
   ],
   "source": [
    "music[music['name'] == 'Girl On the Moon']"
   ]
  },
  {
   "cell_type": "code",
   "execution_count": 26,
   "id": "40cadf54",
   "metadata": {},
   "outputs": [],
   "source": [
    "#function to make the program work\n",
    "def recommend(data):\n",
    "    index = music[music['name'] == data].index[0]\n",
    "    distance = sorted(enumerate(similarity[index]), reverse=True, key=lambda x: x[1])\n",
    "    for i in distance[0:6]:\n",
    "      print(music.iloc[i[0]]['name']) "
   ]
  },
  {
   "cell_type": "code",
   "execution_count": 34,
   "id": "76319f42",
   "metadata": {
    "scrolled": true
   },
   "outputs": [
    {
     "name": "stdout",
     "output_type": "stream",
     "text": [
      "Palm Leaf (arr. G. de Chiaro)\n",
      "Minuet In Jazz\n",
      "Pieces de clavecin, Book 1: La Boullongne\n",
      "Sally in Our Alley\n",
      "Over the Mountain\n",
      "Six Disciples\n"
     ]
    }
   ],
   "source": [
    "#this is the model working, with random\n",
    "import random\n",
    "recommend(random.choice(music['name']))"
   ]
  },
  {
   "cell_type": "markdown",
   "id": "daba7f16",
   "metadata": {},
   "source": [
    "Save the model"
   ]
  },
  {
   "cell_type": "code",
   "execution_count": 61,
   "id": "82088faa",
   "metadata": {},
   "outputs": [],
   "source": [
    "import pickle"
   ]
  },
  {
   "cell_type": "code",
   "execution_count": 90,
   "id": "b3279446",
   "metadata": {},
   "outputs": [],
   "source": [
    "#save the data\n",
    "data_path = 'Programas/Music_R_S/songs_data.pkl'\n",
    "with open(data_path, 'wb') as music_file:\n",
    "    pickle.dump(music_data, music_file)"
   ]
  },
  {
   "cell_type": "code",
   "execution_count": 91,
   "id": "4774c036",
   "metadata": {},
   "outputs": [],
   "source": [
    "#save the \"model\" similarity\n",
    "model_path = 'Programas/Music_R_S/similarity.pkl'\n",
    "with open(model_path, 'wb') as model_file:\n",
    "    pickle.dump(similarity, model_file)"
   ]
  },
  {
   "cell_type": "code",
   "execution_count": 102,
   "id": "b4f6c4e3",
   "metadata": {
    "collapsed": true,
    "jupyter": {
     "outputs_hidden": true
    },
    "scrolled": true,
    "tags": []
   },
   "outputs": [
    {
     "ename": "FileNotFoundError",
     "evalue": "[Errno 2] No such file or directory: 'songs_data.pkl'",
     "output_type": "error",
     "traceback": [
      "\u001b[1;31m---------------------------------------------------------------------------\u001b[0m",
      "\u001b[1;31mFileNotFoundError\u001b[0m                         Traceback (most recent call last)",
      "Cell \u001b[1;32mIn[102], line 1\u001b[0m\n\u001b[1;32m----> 1\u001b[0m pickle\u001b[38;5;241m.\u001b[39mload(\u001b[38;5;28;43mopen\u001b[39;49m\u001b[43m(\u001b[49m\u001b[38;5;124;43m'\u001b[39;49m\u001b[38;5;124;43msongs_data.pkl\u001b[39;49m\u001b[38;5;124;43m'\u001b[39;49m\u001b[43m,\u001b[49m\u001b[43m \u001b[49m\u001b[38;5;124;43m'\u001b[39;49m\u001b[38;5;124;43mrb\u001b[39;49m\u001b[38;5;124;43m'\u001b[39;49m\u001b[43m)\u001b[49m)\n",
      "File \u001b[1;32m~\\anaconda3\\lib\\site-packages\\IPython\\core\\interactiveshell.py:282\u001b[0m, in \u001b[0;36m_modified_open\u001b[1;34m(file, *args, **kwargs)\u001b[0m\n\u001b[0;32m    275\u001b[0m \u001b[38;5;28;01mif\u001b[39;00m file \u001b[38;5;129;01min\u001b[39;00m {\u001b[38;5;241m0\u001b[39m, \u001b[38;5;241m1\u001b[39m, \u001b[38;5;241m2\u001b[39m}:\n\u001b[0;32m    276\u001b[0m     \u001b[38;5;28;01mraise\u001b[39;00m \u001b[38;5;167;01mValueError\u001b[39;00m(\n\u001b[0;32m    277\u001b[0m         \u001b[38;5;124mf\u001b[39m\u001b[38;5;124m\"\u001b[39m\u001b[38;5;124mIPython won\u001b[39m\u001b[38;5;124m'\u001b[39m\u001b[38;5;124mt let you open fd=\u001b[39m\u001b[38;5;132;01m{\u001b[39;00mfile\u001b[38;5;132;01m}\u001b[39;00m\u001b[38;5;124m by default \u001b[39m\u001b[38;5;124m\"\u001b[39m\n\u001b[0;32m    278\u001b[0m         \u001b[38;5;124m\"\u001b[39m\u001b[38;5;124mas it is likely to crash IPython. If you know what you are doing, \u001b[39m\u001b[38;5;124m\"\u001b[39m\n\u001b[0;32m    279\u001b[0m         \u001b[38;5;124m\"\u001b[39m\u001b[38;5;124myou can use builtins\u001b[39m\u001b[38;5;124m'\u001b[39m\u001b[38;5;124m open.\u001b[39m\u001b[38;5;124m\"\u001b[39m\n\u001b[0;32m    280\u001b[0m     )\n\u001b[1;32m--> 282\u001b[0m \u001b[38;5;28;01mreturn\u001b[39;00m io_open(file, \u001b[38;5;241m*\u001b[39margs, \u001b[38;5;241m*\u001b[39m\u001b[38;5;241m*\u001b[39mkwargs)\n",
      "\u001b[1;31mFileNotFoundError\u001b[0m: [Errno 2] No such file or directory: 'songs_data.pkl'"
     ]
    }
   ],
   "source": [
    "pickle.load(open('songs_data.pkl', 'rb'))"
   ]
  },
  {
   "cell_type": "code",
   "execution_count": 94,
   "id": "ca856a4f",
   "metadata": {},
   "outputs": [
    {
     "name": "stdout",
     "output_type": "stream",
     "text": [
      "<class 'pandas.core.frame.DataFrame'>\n",
      "RangeIndex: 1000 entries, 1 to 1000\n",
      "Data columns (total 3 columns):\n",
      " #   Column         Non-Null Count  Dtype \n",
      "---  ------         --------------  ----- \n",
      " 0   id             1000 non-null   object\n",
      " 1   name           1000 non-null   object\n",
      " 2   song_features  1000 non-null   object\n",
      "dtypes: object(3)\n",
      "memory usage: 23.6+ KB\n"
     ]
    }
   ],
   "source": [
    "music.info()"
   ]
  },
  {
   "cell_type": "code",
   "execution_count": null,
   "id": "3b4ca048",
   "metadata": {},
   "outputs": [],
   "source": []
  }
 ],
 "metadata": {
  "kernelspec": {
   "display_name": "Music_recommendation_system",
   "language": "python",
   "name": "music_recommendation_system"
  },
  "language_info": {
   "codemirror_mode": {
    "name": "ipython",
    "version": 3
   },
   "file_extension": ".py",
   "mimetype": "text/x-python",
   "name": "python",
   "nbconvert_exporter": "python",
   "pygments_lexer": "ipython3",
   "version": "3.10.9"
  }
 },
 "nbformat": 4,
 "nbformat_minor": 5
}
